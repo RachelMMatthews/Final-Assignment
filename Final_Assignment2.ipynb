{
 "cells": [
  {
   "cell_type": "markdown",
   "id": "d53c9de4-c749-4fb3-921d-f4365b539e8f",
   "metadata": {},
   "source": [
    "# Final Assignment #"
   ]
  },
  {
   "cell_type": "markdown",
   "id": "ee5da8af-f268-401d-9c6b-8fcfa28e0f03",
   "metadata": {},
   "source": [
    "*This is my final assignment for Tools for Data Science. In this assignment I will create lists and execute mathmatic equations to show my understanding of Jupyter Notebooks.*"
   ]
  },
  {
   "cell_type": "markdown",
   "id": "97810cf8-4618-4b6e-9732-e737813d2dc8",
   "metadata": {},
   "source": [
    "Data Science Languages\n",
    "1. Python\n",
    "2. R\n",
    "3. Sequel\n",
    "4. Java\n",
    "5. Julia\n",
    "6. C++"
   ]
  },
  {
   "cell_type": "markdown",
   "id": "817651e8-31ba-4f28-9ef3-9f933a326104",
   "metadata": {},
   "source": [
    "Data Science Libraries\n",
    "1. Pandas\n",
    "2. NumPy\n",
    "3. Matplotlib\n",
    "4. Keras"
   ]
  },
  {
   "cell_type": "markdown",
   "id": "bf4e9af8-ebd1-484e-a2ea-bc1cf7da34ce",
   "metadata": {},
   "source": [
    "Data Science Tools\n",
    "1. MySQL\n",
    "2. MongoDB\n",
    "3. Cassandra\n",
    "4. Jupyter"
   ]
  },
  {
   "cell_type": "markdown",
   "id": "4e9f409d-3757-45db-9bf2-9c23380b665f",
   "metadata": {},
   "source": [
    "## Below are arithmetic expressions ##"
   ]
  },
  {
   "cell_type": "code",
   "execution_count": 1,
   "id": "0d5c6edf-e162-4317-bf92-87127025913b",
   "metadata": {},
   "outputs": [
    {
     "data": {
      "text/plain": [
       "38"
      ]
     },
     "execution_count": 1,
     "metadata": {},
     "output_type": "execute_result"
    }
   ],
   "source": [
    "2*3+4*8"
   ]
  },
  {
   "cell_type": "code",
   "execution_count": 5,
   "id": "4d232d07-26d2-43b5-be07-ce4f2b7955e2",
   "metadata": {},
   "outputs": [
    {
     "data": {
      "text/plain": [
       "2.3"
      ]
     },
     "execution_count": 5,
     "metadata": {},
     "output_type": "execute_result"
    }
   ],
   "source": [
    "138/60"
   ]
  },
  {
   "cell_type": "markdown",
   "id": "1178ade8-7236-468b-a999-c7efac51b785",
   "metadata": {},
   "source": [
    "Objectives:\n",
    "* Complete Final Assignment\n",
    "* Turn in Final Assignment\n",
    "* Peer Review Final Assignments"
   ]
  },
  {
   "cell_type": "markdown",
   "id": "a3aeee98-c018-42fa-beec-2cb5db8ecfd7",
   "metadata": {},
   "source": [
    "Author:\n",
    "Rachel Matthews"
   ]
  }
 ],
 "metadata": {
  "kernelspec": {
   "display_name": "Python",
   "language": "python",
   "name": "conda-env-python-py"
  },
  "language_info": {
   "codemirror_mode": {
    "name": "ipython",
    "version": 3
   },
   "file_extension": ".py",
   "mimetype": "text/x-python",
   "name": "python",
   "nbconvert_exporter": "python",
   "pygments_lexer": "ipython3",
   "version": "3.7.12"
  }
 },
 "nbformat": 4,
 "nbformat_minor": 5
}
